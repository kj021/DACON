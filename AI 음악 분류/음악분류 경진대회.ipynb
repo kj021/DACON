{
 "cells": [
  {
   "cell_type": "code",
   "execution_count": 17,
   "id": "d6cf8340",
   "metadata": {},
   "outputs": [],
   "source": [
    "import pandas as pd\n",
    "import seaborn as sns\n",
    "import matplotlib.pyplot as plt\n",
    "import numpy as np\n",
    "from sklearn.preprocessing import LabelEncoder\n",
    "import warnings\n",
    "warnings.filterwarnings(\"ignore\")\n",
    "\n",
    "plt.rc('font', family='NanumBarunGothic')"
   ]
  },
  {
   "cell_type": "code",
   "execution_count": 5,
   "id": "b996b3ab",
   "metadata": {},
   "outputs": [],
   "source": [
    "music_test= pd.read_csv(\"/Users/gyujin/Downloads/open/test.csv\")"
   ]
  },
  {
   "cell_type": "code",
   "execution_count": 6,
   "id": "eb1bad1e",
   "metadata": {},
   "outputs": [],
   "source": [
    "music_train= pd.read_csv(\"/Users/gyujin/Downloads/open/train.csv\")"
   ]
  },
  {
   "cell_type": "code",
   "execution_count": 8,
   "id": "99076253",
   "metadata": {},
   "outputs": [],
   "source": [
    "music_sub= pd.read_csv(\"/Users/gyujin/Downloads/open/sample_submission.csv\")"
   ]
  },
  {
   "cell_type": "code",
   "execution_count": 11,
   "id": "62db2acf",
   "metadata": {},
   "outputs": [
    {
     "name": "stdout",
     "output_type": "stream",
     "text": [
      "<class 'pandas.core.frame.DataFrame'>\n",
      "RangeIndex: 25383 entries, 0 to 25382\n",
      "Data columns (total 13 columns):\n",
      " #   Column            Non-Null Count  Dtype  \n",
      "---  ------            --------------  -----  \n",
      " 0   ID                25383 non-null  object \n",
      " 1   danceability      25383 non-null  float64\n",
      " 2   energy            25383 non-null  float64\n",
      " 3   key               25383 non-null  int64  \n",
      " 4   loudness          25383 non-null  float64\n",
      " 5   speechiness       25383 non-null  float64\n",
      " 6   acousticness      25383 non-null  float64\n",
      " 7   instrumentalness  25383 non-null  float64\n",
      " 8   liveness          25383 non-null  float64\n",
      " 9   valence           25383 non-null  float64\n",
      " 10  tempo             25383 non-null  float64\n",
      " 11  duration          25383 non-null  int64  \n",
      " 12  genre             25383 non-null  object \n",
      "dtypes: float64(9), int64(2), object(2)\n",
      "memory usage: 2.5+ MB\n"
     ]
    }
   ],
   "source": [
    "music_train.info()"
   ]
  },
  {
   "cell_type": "code",
   "execution_count": 13,
   "id": "0afbd847",
   "metadata": {},
   "outputs": [
    {
     "name": "stdout",
     "output_type": "stream",
     "text": [
      "<class 'pandas.core.frame.DataFrame'>\n",
      "RangeIndex: 16922 entries, 0 to 16921\n",
      "Data columns (total 12 columns):\n",
      " #   Column            Non-Null Count  Dtype  \n",
      "---  ------            --------------  -----  \n",
      " 0   ID                16922 non-null  object \n",
      " 1   danceability      16922 non-null  float64\n",
      " 2   energy            16922 non-null  float64\n",
      " 3   key               16922 non-null  int64  \n",
      " 4   loudness          16922 non-null  float64\n",
      " 5   speechiness       16922 non-null  float64\n",
      " 6   acousticness      16922 non-null  float64\n",
      " 7   instrumentalness  16922 non-null  float64\n",
      " 8   liveness          16922 non-null  float64\n",
      " 9   valence           16922 non-null  float64\n",
      " 10  tempo             16922 non-null  float64\n",
      " 11  duration          16922 non-null  int64  \n",
      "dtypes: float64(9), int64(2), object(1)\n",
      "memory usage: 1.5+ MB\n"
     ]
    }
   ],
   "source": [
    "music_test.info()"
   ]
  },
  {
   "cell_type": "code",
   "execution_count": 15,
   "id": "3ff0705d",
   "metadata": {},
   "outputs": [
    {
     "name": "stdout",
     "output_type": "stream",
     "text": [
      "<class 'pandas.core.frame.DataFrame'>\n",
      "RangeIndex: 16922 entries, 0 to 16921\n",
      "Data columns (total 2 columns):\n",
      " #   Column  Non-Null Count  Dtype \n",
      "---  ------  --------------  ----- \n",
      " 0   ID      16922 non-null  object\n",
      " 1   genre   16922 non-null  object\n",
      "dtypes: object(2)\n",
      "memory usage: 264.5+ KB\n"
     ]
    }
   ],
   "source": [
    "music_sub.info()"
   ]
  },
  {
   "cell_type": "code",
   "execution_count": null,
   "id": "722a9f45",
   "metadata": {},
   "outputs": [],
   "source": []
  }
 ],
 "metadata": {
  "kernelspec": {
   "display_name": "ml",
   "language": "python",
   "name": "ml"
  },
  "language_info": {
   "codemirror_mode": {
    "name": "ipython",
    "version": 3
   },
   "file_extension": ".py",
   "mimetype": "text/x-python",
   "name": "python",
   "nbconvert_exporter": "python",
   "pygments_lexer": "ipython3",
   "version": "3.8.13"
  }
 },
 "nbformat": 4,
 "nbformat_minor": 5
}
