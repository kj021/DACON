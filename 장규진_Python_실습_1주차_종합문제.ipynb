{
  "nbformat": 4,
  "nbformat_minor": 0,
  "metadata": {
    "colab": {
      "name": "장규진 - Python 실습 - 1주차 종합문제.ipynb",
      "provenance": [],
      "collapsed_sections": [],
      "include_colab_link": true
    },
    "kernelspec": {
      "name": "python3",
      "display_name": "Python 3"
    },
    "language_info": {
      "name": "python"
    }
  },
  "cells": [
    {
      "cell_type": "markdown",
      "metadata": {
        "id": "view-in-github",
        "colab_type": "text"
      },
      "source": [
        "<a href=\"https://colab.research.google.com/github/kj021/DACON/blob/main/%EC%9E%A5%EA%B7%9C%EC%A7%84_Python_%EC%8B%A4%EC%8A%B5_1%EC%A3%BC%EC%B0%A8_%EC%A2%85%ED%95%A9%EB%AC%B8%EC%A0%9C.ipynb\" target=\"_parent\"><img src=\"https://colab.research.google.com/assets/colab-badge.svg\" alt=\"Open In Colab\"/></a>"
      ]
    },
    {
      "cell_type": "markdown",
      "source": [
        "### 실습 공간\n",
        "\n",
        "아래에 자유롭게 실습을 진행해 주시면 됩니다.\n",
        "\n",
        "공간이 부족하신 경우, '+ 코드' 버튼을 통해 셀을 추가하시고 실행하실 수 있습니다.\n",
        "\n",
        "Python 기초 교육 기간동안은 제출하실 필요는 없습니다."
      ],
      "metadata": {
        "id": "tj0RjowpMWAb"
      }
    },
    {
      "cell_type": "code",
      "source": [],
      "metadata": {
        "id": "Ul-8lM_gMe-q"
      },
      "execution_count": null,
      "outputs": []
    },
    {
      "cell_type": "code",
      "source": [],
      "metadata": {
        "id": "eyLXFXp3Me9H"
      },
      "execution_count": null,
      "outputs": []
    },
    {
      "cell_type": "markdown",
      "source": [
        "### 문제 풀이 공간\n",
        "\n",
        "역시 별도로 제출하실 필요는 없습니다. 평소에 비해 양이 많은 만큼, 미리 풀어보시고 토요일 Q&A 시간을 이용하시기 바랍니다.\n",
        "\n",
        "Zoom Q&A 세션을 이용하실 경우, 반드시 아래 공간에 문제를 풀어주시기 바랍니다."
      ],
      "metadata": {
        "id": "YQQW2myZMgIQ"
      }
    },
    {
      "cell_type": "markdown",
      "source": [
        "곱셈 - https://www.acmicpc.net/problem/2588"
      ],
      "metadata": {
        "id": "UCbWEu07MjAN"
      }
    },
    {
      "cell_type": "code",
      "source": [],
      "metadata": {
        "id": "NaJUo3ouUlob"
      },
      "execution_count": null,
      "outputs": []
    },
    {
      "cell_type": "markdown",
      "source": [
        "사분면 고르기 - https://www.acmicpc.net/problem/14681"
      ],
      "metadata": {
        "id": "x-GLowQPM1N5"
      }
    },
    {
      "cell_type": "code",
      "source": [],
      "metadata": {
        "id": "q9rbglbgM1ex"
      },
      "execution_count": null,
      "outputs": []
    },
    {
      "cell_type": "markdown",
      "source": [
        "숫자의 개수 - https://www.acmicpc.net/problem/2577"
      ],
      "metadata": {
        "id": "IzWUpUI7M150"
      }
    },
    {
      "cell_type": "code",
      "source": [],
      "metadata": {
        "id": "ykg3_8lWM22v"
      },
      "execution_count": null,
      "outputs": []
    },
    {
      "cell_type": "markdown",
      "source": [
        "평균은 넘겠지 - https://www.acmicpc.net/problem/4344"
      ],
      "metadata": {
        "id": "5MNWkglzM3En"
      }
    },
    {
      "cell_type": "code",
      "source": [],
      "metadata": {
        "id": "6mIPcqUBM4cQ"
      },
      "execution_count": null,
      "outputs": []
    },
    {
      "cell_type": "markdown",
      "source": [
        "크로아티아 알파벳 - https://www.acmicpc.net/problem/2941"
      ],
      "metadata": {
        "id": "MiFAlNGyM4zl"
      }
    },
    {
      "cell_type": "code",
      "source": [],
      "metadata": {
        "id": "Ua-XRLKrM6RB"
      },
      "execution_count": null,
      "outputs": []
    },
    {
      "cell_type": "markdown",
      "source": [
        "알파벳 찾기 - https://www.acmicpc.net/problem/10809"
      ],
      "metadata": {
        "id": "Xyrr4IluM6fa"
      }
    },
    {
      "cell_type": "code",
      "source": [],
      "metadata": {
        "id": "so2HSVhxM71m"
      },
      "execution_count": null,
      "outputs": []
    },
    {
      "cell_type": "markdown",
      "source": [
        "소수 찾기 - https://www.acmicpc.net/problem/1978"
      ],
      "metadata": {
        "id": "2ZDvY9EPTiKK"
      }
    },
    {
      "cell_type": "code",
      "source": [],
      "metadata": {
        "id": "v2y294IzTjTx"
      },
      "execution_count": null,
      "outputs": []
    },
    {
      "cell_type": "markdown",
      "source": [
        "셀프 넘버 - https://www.acmicpc.net/problem/4673"
      ],
      "metadata": {
        "id": "kliWIDBCTjgk"
      }
    },
    {
      "cell_type": "code",
      "source": [],
      "metadata": {
        "id": "Vxd61WguTkpK"
      },
      "execution_count": null,
      "outputs": []
    },
    {
      "cell_type": "markdown",
      "source": [
        "(심화) 설탕 배달 - https://www.acmicpc.net/problem/2839\n",
        "\n",
        "앞선 문제들에 비해 상대적으로 난이도가 높은 문제입니다. "
      ],
      "metadata": {
        "id": "QlDcO3gtTlDM"
      }
    },
    {
      "cell_type": "code",
      "source": [],
      "metadata": {
        "id": "GursiAYXTl2c"
      },
      "execution_count": null,
      "outputs": []
    }
  ]
}